{
  "cells": [
    {
      "cell_type": "markdown",
      "metadata": {
        "id": "dgW5jmHe9rme"
      },
      "source": [
        "# Assignment 3: Normal Modes Analysis\n",
        "\n",
        "One of the general approaches in quantum chemistry is to change the representation, we descripe our system in, to simplify the equations we have to solve. For example, where the system is not described in terms of its usual cartesian coordinates, but instead in terms of mass weighted displacement coordinates. In this representation the complicated Hamiltonian can be simplified to an sum of independent harmonic oscillators (exact up to second order).\n",
        "Besides this great feature, normal modes can be used to understand the characteristic motion of a molecule by decomposing it into the motion of independent normal modes. This is typically used to understand IR or Raman-Spectra.\n",
        "\n",
        "In the assignemnt, you will write your own code to transform from cartesian coordinates to normal mode coordinates and compute the IR frequencies of the system.\n",
        "Herefore, you have to read in an `hessian.dat` file, which contains the hessian of the given molecular system in the format:\n",
        "\n",
        "--------------------------\n",
        "$F_{x1,x1}$ $F_{x1,y1}$ $F_{x1,z1}$ <br>\n",
        "$F_{x1,x2}$ $F_{x1,y2}$ $F_{x1,z2}$ <br>\n",
        "... <br>\n",
        "$F_{x2,x1}$ $F_{x2,y1}$ $F_{x2,z1}$ <br>\n",
        "... <br>\n",
        "\n",
        "--------------------------\n",
        "\n",
        "Afterwards, the hessian is massweighted:\n",
        "\n",
        "\\begin{align}\n",
        " F^M_{IJ} = \\frac{F_{IJ}}{\\sqrt{m_i*m_j}}\n",
        "\\end{align}\n",
        "\n",
        "Diagonlize the mass weighted hessian and compute the harmonic frequencies as a function of its eigenvalues $\\lambda_i$.\n",
        "\n",
        "\\begin{align}\n",
        " \\omega_i = \\text{constant} * \\sqrt{\\lambda_i}\n",
        "\\end{align}\n",
        "\n",
        "This assignment was taken from:\n",
        "\n",
        "https://github.com/CrawfordGroup/ProgrammingProjects/blob/master/Project%2302/project2-instructions.pdf"
      ]
    },
    {
      "cell_type": "code",
      "execution_count": null,
      "metadata": {
        "id": "nXlz9yqioD2B"
      },
      "outputs": [],
      "source": [
        "import os\n",
        "import json\n",
        "import numpy as np\n",
        "# Get our data from github\n",
        "if not os.path.exists(\"../../python_lessons/\"):\n",
        "  #Move to the folder of assignment 3\n",
        "  !git clone https://github.com/MFSJMenger/python_lessons.git\n",
        "  os.chdir(\"python_lessons/assignment3/\")"
      ]
    },
    {
      "cell_type": "markdown",
      "metadata": {
        "id": "3XNr01L2j_ge"
      },
      "source": [
        "Import the database of atomic masses. Try to inspect its content. It will be useful to create a dictionary to associate the mass to the atomic symbol."
      ]
    },
    {
      "cell_type": "code",
      "execution_count": null,
      "metadata": {
        "id": "i-cMcoMG9rmh"
      },
      "outputs": [],
      "source": [
        "MASS_Z = json.load(open('MASSES.json', 'r'))     # open a JSON file named 'MASSES.json' in read mode ('r') using the 'open' function and then loads its contents into a python dictionary(MASS_Z) using 'json.load' function.\n",
        "\n",
        "MASS = {                                         # create a new dictionary named 'MASS' and retrive the masses of the respective atomic symbol from the 'MASS_Z' dictionary.\n",
        "    'h' : MASS_Z['1'],                           # assess the mass associated with atomic number 1 in the 'MASS_Z' dictionary.\n",
        "    'c' : MASS_Z['6'],\n",
        "    'o' : MASS_Z['8'],\n",
        "    'cl': MASS_Z['17']\n",
        "}"
      ]
    },
    {
      "cell_type": "markdown",
      "metadata": {
        "id": "8FZGpFnSXDm_"
      },
      "source": [
        "Write a general function to read the number of atoms, the masses, and the molecular coordinates from a xyz file.\n",
        "The xyz file has the following structure:\n",
        "\n",
        "> Number of atoms\n",
        "\n",
        "> Text with information on the molecule\n",
        "\n",
        "> $x_1$   $y_2$   $y_3$\n",
        "\n",
        "> $x_2$   $y_2$   $z_2$\n",
        "\n",
        "> ...\n",
        "\n"
      ]
    },
    {
      "cell_type": "code",
      "execution_count": null,
      "metadata": {
        "id": "WEGuJebiXl-n",
        "colab": {
          "base_uri": "https://localhost:8080/"
        },
        "outputId": "1fbfbb95-096f-4c78-9dec-22923fb88bc8"
      },
      "outputs": [
        {
          "output_type": "stream",
          "name": "stdout",
          "text": [
            "(12, array([21874.66181995, 21874.66181995, 21874.66181995, 21874.66181995,\n",
            "       21874.66181995, 21874.66181995,  1837.15258739,  1837.15258739,\n",
            "        1837.15258739,  1837.15258739,  1837.15258739,  1837.15258739]), array([[ 0.        ,  2.62065942,  0.        ],\n",
            "       [-2.26955763,  1.31032971,  0.        ],\n",
            "       [-2.26955763, -1.31032971,  0.        ],\n",
            "       [ 0.        , -2.62065942,  0.        ],\n",
            "       [ 2.26955763, -1.31032971,  0.        ],\n",
            "       [ 2.26955763,  1.31032971,  0.        ],\n",
            "       [-4.04130651,  2.3332494 ,  0.        ],\n",
            "       [-4.04130651, -2.3332494 ,  0.        ],\n",
            "       [ 0.        , -4.6664988 ,  0.        ],\n",
            "       [ 4.04130651, -2.3332494 ,  0.        ],\n",
            "       [ 4.04130651,  2.3332494 ,  0.        ],\n",
            "       [ 0.        ,  4.6664988 ,  0.        ]]))\n"
          ]
        }
      ],
      "source": [
        "def read_xyz(xyzfile):                # Define a function that takes the arguement 'xyzfile' which is the file name of an XYZ file.\n",
        "  with open(xyzfile, 'r') as fh:      # opens the XYZ file in read mode and further names it as fh. The'with' statement ensures that the file is properly closed after its suite finishes\n",
        "    xyz = fh.readlines()              # reads the lines from fh and stores them as a list of strings in 'xyz'\n",
        "\n",
        "  # Read the number of atoms\n",
        "  nAtoms = int(xyz[0])                 # extracts the first line of the file and converts it into an integer. The first line contains the number of atoms in the molecule\n",
        "  masses = np.zeros(nAtoms)            # creates an array named 'masses' which is initialized to zero for storing the masses of each atom.\n",
        "  geom   = np.zeros((nAtoms,3))        # creates an array with dimensions ( , ), initialized to zero for storing the atomic coordinates\n",
        "  i = 0                                # a counter to keep track of the atom being processed.\n",
        "\n",
        "  for line in xyz[2:]:                                # iterates over each line in the 'xyz' list starting from the third line\n",
        "    line_split = line.split()                         # splits each line into a list of strings based on whitespace. It seperates the atom symbol and its coordinates.\n",
        "    masses[i] = MASS[line_split[0].lower()]           # looks up the mass of the atom symbol (converted to lowercase) in the 'MASS' dictionary and assigns it to the 'masses' array at index 'i'.\n",
        "    geom[i] = [float(x) for x in line_split[1:]]      # converts the coordinates to floats and assigns them to the 'geom' array at index 'i'.\n",
        "    i+=1                                              # increments the counter 'i' to move to the next atom.\n",
        "  return nAtoms, masses, geom                         #returns the number of atoms, the array of masses and the array of atomic coordinates\n",
        "\n",
        "print(read_xyz('benzene.xyz'))                        # reads the benzene.xyz file and returns the values. This demonstrates the use of the defined function."
      ]
    },
    {
      "cell_type": "markdown",
      "metadata": {
        "id": "XT11SiS9dtK7"
      },
      "source": [
        "Write a general function to read the Hessian matrix.\n",
        "\n",
        "**Hint:** Use the the numpy functions `loadtxt` to convert a list of strings to an array, and the function `reshape` to reorder the elements of the array into a matrix with the desired dimensions."
      ]
    },
    {
      "cell_type": "code",
      "execution_count": null,
      "metadata": {
        "id": "I5YcLx6hd8M8",
        "colab": {
          "base_uri": "https://localhost:8080/"
        },
        "outputId": "76695e6c-a5a1-4536-9fc9-8d50934c9679"
      },
      "outputs": [
        {
          "output_type": "stream",
          "name": "stdout",
          "text": [
            "[[ 0.83704759  0.          0.         ... -0.08149339  0.\n",
            "   0.        ]\n",
            " [ 0.          1.02782495  0.         ...  0.         -0.47489408\n",
            "   0.        ]\n",
            " [ 0.          0.          0.1884039  ...  0.          0.\n",
            "  -0.05333218]\n",
            " ...\n",
            " [-0.08149339  0.          0.         ...  0.07696693  0.\n",
            "   0.        ]\n",
            " [ 0.         -0.47489408  0.         ...  0.          0.48721616\n",
            "   0.        ]\n",
            " [ 0.          0.         -0.05333218 ...  0.          0.\n",
            "   0.03685694]]\n"
          ]
        }
      ],
      "source": [
        "def read_hessian(hessfile):                                              # defines a function that takes a hessian file.\n",
        "  with open(hessfile, 'r') as hs:                                        # opens the hessian file in the read mode.\n",
        "    hessian = hs.readlines()                                             # reads all the lines from the file and stores them as a list of strings in the variable 'hessian'.\n",
        "  nAtoms = int(hessian[0])                                               # extracts the first line of the hessian file that contains the atomic number\n",
        "  shaped_hessian = np.loadtxt(hessian[1:]).reshape(3*nAtoms, 3*nAtoms)   # loads the numerical data from the first excluding the first line and reshapes the loaded data into a 3N*3N square matrix\n",
        "  return shaped_hessian\n",
        "\n",
        "print(read_hessian('benzene_hessian.dat'))                               # demonstration for the function"
      ]
    },
    {
      "cell_type": "markdown",
      "metadata": {
        "id": "zWta7s8hkKrM"
      },
      "source": [
        "Write a general function to construct the mass-weighted Hessian by combining the Cartesian Hessian with the array of masses.\n",
        "\n",
        "Notice that the Hessian has dimensions $3N \\times 3N$, while the array of masses has dimension $N$, so it should be \"triplicated\". To this end, it might be useful to check what the numpy functions `column_stack` and `flatten` do...\n"
      ]
    },
    {
      "cell_type": "code",
      "execution_count": null,
      "metadata": {
        "id": "te0lIWP7tAgc"
      },
      "outputs": [],
      "source": [
        "def build_mw_hessian(hess, mass):                             # define a function for creating the mass-weighted Hessian matrix based on a given Cartesian hessian matrix and array of masses\n",
        "  mass3 = np.repeat(mass,3)                                   # creates a new array that repeats each element in the mass array three times. eg: [1,2,3] becomes [1,1,1,2,2,2,3,3,3]\n",
        "  n3 = len(mass3)                                             # calculate the length of the 'mass3' array. Represents the total number of elements in the Hessian matrix.\n",
        "  hess_mw = np.zeros_like(hess)                               # creates a new array with the same shape as the hessian matrix but filled with zero.\n",
        "  for n in range(n3):                                         # nested loop to iterate over each element\n",
        "    for m in range(n3):\n",
        "      hess_mw[n,m] = hess[n,m]/np.sqrt(mass3[n]*mass3[m])     # each element in the cartesian hessian matrix is divided by the square root of product of masses of atoms 'n' and 'm'\n",
        "  return hess_mw                                              # returns the computed mass-weighted Hessian matrix."
      ]
    },
    {
      "cell_type": "markdown",
      "metadata": {
        "id": "8N4Z1Yn_5PK4"
      },
      "source": [
        "Once the mass-weighted Hessian has been built one can find the frequencies by diagonalization. To this end, use the numpy function `linalg.eigvalsh`.\n",
        "\n",
        "Don't forget to convert the result from atomic units to $\\mathrm{cm}^{-1}$"
      ]
    },
    {
      "cell_type": "code",
      "execution_count": null,
      "metadata": {
        "id": "GAAihM5wWqVd",
        "colab": {
          "base_uri": "https://localhost:8080/"
        },
        "outputId": "d3d0492e-2b63-4574-b123-c547ce769821"
      },
      "outputs": [
        {
          "output_type": "stream",
          "name": "stdout",
          "text": [
            "Frequencies(cm-1):\n",
            "Mode 1: 3747.38\n",
            "Mode 2: 3736.53\n",
            "Mode 3: 3736.53\n",
            "Mode 4: 3722.84\n",
            "Mode 5: 3722.84\n",
            "Mode 6: 3704.42\n",
            "Mode 7: 1932.46\n",
            "Mode 8: 1932.46\n",
            "Mode 9: 1772.58\n",
            "Mode 10: 1772.58\n",
            "Mode 11: 1595.28\n",
            "Mode 12: 1377.00\n",
            "Mode 13: 1371.34\n",
            "Mode 14: 1371.34\n",
            "Mode 15: 1225.86\n",
            "Mode 16: 1225.86\n",
            "Mode 17: 1214.69\n",
            "Mode 18: 1190.65\n",
            "Mode 19: 1190.65\n",
            "Mode 20: 1172.43\n",
            "Mode 21: 1156.72\n",
            "Mode 22: 1154.29\n",
            "Mode 23: 1037.80\n",
            "Mode 24: 1037.80\n",
            "Mode 25: 841.22\n",
            "Mode 26: 811.07\n",
            "Mode 27: 700.17\n",
            "Mode 28: 700.17\n",
            "Mode 29: 478.08\n",
            "Mode 30: 478.08\n",
            "Mode 31: 0.67\n",
            "Mode 32: 0.67\n",
            "Mode 33: 0.67\n",
            "Mode 34: 0.02\n",
            "Mode 35: 0.01\n",
            "Mode 36: 0.02\n"
          ]
        }
      ],
      "source": [
        "molecule = 'benzene'                                   # indicates the name of the molecule\n",
        "nAtoms, masses, geom = read_xyz(molecule + '.xyz')     # reads the file with name 'benzene_xyz' and retrieves the number of atoms, masses and the atomic coordinates\n",
        "hess = read_hessian(molecule + '_hessian.dat')         # reads the file with name 'benzene_hessian.dat' and retrieves the hessian matrix from the file.\n",
        "hess_mw = build_mw_hessian(hess, masses)               # calls the function to construct the mass-weighted Hessian matrix\n",
        "eigenvalues = np.linalg.eigvalsh(hess_mw)              # calculates the eigenvalues of the mass-weighted matrix\n",
        "\n",
        "freq = np.sqrt(np.abs(eigenvalues))                    # takes the square root of the absolute values of the eigenvalues of the mass-weighted Hessian matrix and multiplies them by the conversion factor to get the frequencies\n",
        "freq_cm = freq*219474                                  # conversion factor for atomic units to cm-1\n",
        "rev_freq_cm = np.flip(freq_cm)                         # reverses the order of values in the array\n",
        "print(\"Frequencies(cm-1):\")\n",
        "for i,f in enumerate(rev_freq_cm):                     # returns a tuple for each element in freq_cm where the first element is the index of the element and the second element is the element itself\n",
        "  print(f\"Mode {i+1}: {f:.2f}\")                        # i is the index of the current element and f is the value of the current element.\n"
      ]
    },
    {
      "cell_type": "code",
      "source": [
        "normal_modes = rev_freq_cm[:(3*nAtoms - 6)]           # finds the normal modes\n",
        "print(\"Normal modes(cm-1):\")\n",
        "for i,f in enumerate(normal_modes):\n",
        "  print(f\"Mode {i+1}: {f:.2f}\")"
      ],
      "metadata": {
        "colab": {
          "base_uri": "https://localhost:8080/"
        },
        "id": "XO9hl_WQ8FEs",
        "outputId": "947f8929-76da-49d4-d303-becf898dbf8e"
      },
      "execution_count": null,
      "outputs": [
        {
          "output_type": "stream",
          "name": "stdout",
          "text": [
            "Normal modes(cm-1):\n",
            "Mode 1: 3747.38\n",
            "Mode 2: 3736.53\n",
            "Mode 3: 3736.53\n",
            "Mode 4: 3722.84\n",
            "Mode 5: 3722.84\n",
            "Mode 6: 3704.42\n",
            "Mode 7: 1932.46\n",
            "Mode 8: 1932.46\n",
            "Mode 9: 1772.58\n",
            "Mode 10: 1772.58\n",
            "Mode 11: 1595.28\n",
            "Mode 12: 1377.00\n",
            "Mode 13: 1371.34\n",
            "Mode 14: 1371.34\n",
            "Mode 15: 1225.86\n",
            "Mode 16: 1225.86\n",
            "Mode 17: 1214.69\n",
            "Mode 18: 1190.65\n",
            "Mode 19: 1190.65\n",
            "Mode 20: 1172.43\n",
            "Mode 21: 1156.72\n",
            "Mode 22: 1154.29\n",
            "Mode 23: 1037.80\n",
            "Mode 24: 1037.80\n",
            "Mode 25: 841.22\n",
            "Mode 26: 811.07\n",
            "Mode 27: 700.17\n",
            "Mode 28: 700.17\n",
            "Mode 29: 478.08\n",
            "Mode 30: 478.08\n"
          ]
        }
      ]
    },
    {
      "cell_type": "code",
      "source": [],
      "metadata": {
        "id": "Arg5rXja824l"
      },
      "execution_count": null,
      "outputs": []
    }
  ],
  "metadata": {
    "colab": {
      "provenance": []
    },
    "kernelspec": {
      "display_name": "Python 3",
      "language": "python",
      "name": "python3"
    },
    "language_info": {
      "codemirror_mode": {
        "name": "ipython",
        "version": 3
      },
      "file_extension": ".py",
      "mimetype": "text/x-python",
      "name": "python",
      "nbconvert_exporter": "python",
      "pygments_lexer": "ipython3",
      "version": "3.7.6"
    }
  },
  "nbformat": 4,
  "nbformat_minor": 0
}